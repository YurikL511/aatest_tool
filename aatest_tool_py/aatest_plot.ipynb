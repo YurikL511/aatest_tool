{
 "cells": [
  {
   "cell_type": "code",
   "execution_count": null,
   "metadata": {},
   "outputs": [],
   "source": [
    "import matplotlib.pyplot as plt\n",
    "def _plot(fsize,df,assignments,features):\n",
    "    df=df.sort_values(by='dt').reset_index(drop=True)\n",
    "    dt_list=list(df.dt.unique())\n",
    "    dt_cnt=len(dt_list)\n",
    "    \n",
    "    \n",
    "    if 'rate' in features:\n",
    "        if len(features['rate']) > 0:\n",
    "            for l in features['rate']:\n",
    "                tmp_dict=rate_dt_stats(df,assignments,l[0],l[1])\n",
    "                fig=plt.figure(figsize=fsize)\n",
    "                for k in tmp_dict:\n",
    "                    plt.plot(range(dt_cnt),list(tmp_dict[k].values))\n",
    "                plt.xticks(range(dt_cnt),dt_list)\n",
    "                plt.title('distribution of {} by day'.format(l))\n",
    "                plt.show()\n",
    "    \n",
    "    if 'per' in features:\n",
    "        if len(features['per']) > 0:\n",
    "            for l in features['per']:\n",
    "                tmp_dict=per_dt_stats(df,assignments,l)\n",
    "                fig=plt.figure(figsize=fsize)\n",
    "                for k in tmp_dict:\n",
    "                    plt.plot(range(dt_cnt),list(tmp_dict[k].values))\n",
    "                plt.xticks(range(dt_cnt),dt_list)\n",
    "                plt.title('distribution of {} by day'.format(l))\n",
    "                plt.show()\n",
    "    \n",
    "    if 'num' in features:\n",
    "        if len(features['num']) > 0:\n",
    "            for l in features['num']:\n",
    "                tmp_dict=num_stats(df,assignments,l)\n",
    "                fig=plt.figure(figsize=fsize)\n",
    "                for k in tmp_dict:\n",
    "                    plt.plot(range(dt_cnt),list(tmp_dict[k].values))\n",
    "                plt.xticks(range(dt_cnt),dt_list)\n",
    "                plt.title('distribution of {} by day'.format(l))\n",
    "                plt.show()"
   ]
  }
 ],
 "metadata": {
  "kernelspec": {
   "display_name": "Python 3",
   "language": "python",
   "name": "python3"
  },
  "language_info": {
   "codemirror_mode": {
    "name": "ipython",
    "version": 3
   },
   "file_extension": ".py",
   "mimetype": "text/x-python",
   "name": "python",
   "nbconvert_exporter": "python",
   "pygments_lexer": "ipython3",
   "version": "3.7.3"
  }
 },
 "nbformat": 4,
 "nbformat_minor": 2
}
