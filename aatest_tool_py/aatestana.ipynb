{
 "cells": [
  {
   "cell_type": "code",
   "execution_count": 1,
   "metadata": {},
   "outputs": [],
   "source": [
    "import pandas as pd\n",
    "from scipy.stats import ttest_rel\n",
    "import numpy as np\n",
    "import random\n",
    "#from pandasql import sqldf\n",
    "#pysqldf = lambda q: sqldf(q, globals())\n",
    "from statsmodels.stats.proportion import proportions_ztest\n",
    "from scipy import stats\n",
    "\n",
    "\n",
    "##rate dt stats:\n",
    "def rate_dt_stats(df,_assign_dict,fea,elem):\n",
    "    fea_dict={}\n",
    "    for i in _assign_dict:\n",
    "        dftmp=df[df['type'].isin(_assign_dict[i])][['dt',fea,'user_id']]\n",
    "        ttmp=dftmp.groupby(['dt']).nunique().user_id\n",
    "        etmp=dftmp[dftmp[fea]==elem].groupby(['dt']).nunique().user_id\n",
    "        fea_dict[i]=etmp/ttmp\n",
    "    return fea_dict\n",
    "\n",
    "##rate stats:\n",
    "def rate_stats(df,_assign_dict,fea,elem):\n",
    "    fea_dict={}\n",
    "    for i in _assign_dict:\n",
    "        dftmp=df[df['type'].isin(_assign_dict[i])][[fea,'user_id']]\n",
    "        ttmp=dftmp['user_id'].nunique()\n",
    "        etmp=dftmp[dftmp[fea]==elem]['user_id'].nunique()\n",
    "        fea_dict[i]=[ttmp,etmp]\n",
    "    return fea_dict\n",
    "\n",
    "##num stats:\n",
    "def num_stats(df,_assign_dict,fea):\n",
    "    fea_dict={}\n",
    "    for i in _assign_dict:\n",
    "        dftmp=df[df['type'].isin(_assign_dict[i])][['dt',fea]]\n",
    "        if fea=='user_id':\n",
    "            fea_dict[i]=dftmp.groupby(['dt']).nunique().user_id/len(_assign_dict[i])\n",
    "        if fea!='user_id':\n",
    "            dftmpuser=df[df['type'].isin(_assign_dict[i])][['dt','user_id']]\n",
    "            fea_dict[i]=dftmp.groupby(['dt']).agg(['sum'])[fea]['sum']/dftmpuser.groupby(['dt']).nunique().user_id\n",
    "    return fea_dict\n",
    "\n",
    "##per dau\n",
    "def per_stats(df,_assign_dict,fea):\n",
    "    fea_dict={}\n",
    "    for i in _assign_dict:\n",
    "        fea_dict[i]=df[df['type'].isin(_assign_dict[i])][['user_id',fea]].groupby(['user_id']).agg(['sum'])[fea]['sum']\n",
    "    return fea_dict\n",
    "\n",
    "\n",
    "#rate test\n",
    "def rate_test(r_dict):\n",
    "    p_list=[]\n",
    "    for i in r_dict:\n",
    "        if i==len(r_dict)-1:\n",
    "            break\n",
    "        else:\n",
    "            for j in range(i+1,len(r_dict)):\n",
    "                stat, pval = proportions_ztest([r_dict[i][1],r_dict[j][1]], [r_dict[i][0],r_dict[j][0]])\n",
    "                p_list.append(pval)\n",
    "    return p_list\n",
    "\n",
    "#num test\n",
    "def num_test(n_dict):\n",
    "    p_list=[]\n",
    "    for i in n_dict:\n",
    "        if i==len(n_dict)-1:\n",
    "            break\n",
    "        else:\n",
    "            for j in range(i+1,len(n_dict)):\n",
    "                stat, pval = stats.ttest_rel(n_dict[i],n_dict[j])\n",
    "                p_list.append(pval)\n",
    "    return p_list\n",
    "\n",
    "#per test\n",
    "def per_test(p_dict):\n",
    "    p_list=[]\n",
    "    for i in p_dict:\n",
    "        if i==len(p_dict)-1:\n",
    "            break\n",
    "        else:\n",
    "            for j in range(i+1,len(p_dict)):\n",
    "                stat, pval = stats.ttest_ind(p_dict[i],p_dict[j])\n",
    "                p_list.append(pval)\n",
    "    return p_list\n",
    "\n",
    "#FDR \n",
    "def FDR(p_values):\n",
    "    p_values.sort()\n",
    "    s=range(1,len(p_values)+1)\n",
    "    q_values=[]\n",
    "    p_re=p_values[::-1]\n",
    "    for i in range(len(p_values)):\n",
    "        if i==0:\n",
    "            q_values.append(p_re[0])\n",
    "        else:\n",
    "            q_values.append(min(q_values[i-1],p_re[i]*len(p_values)/(len(p_values)-i)))\n",
    "    q_values.reverse()\n",
    "    return(q_values)\n",
    "\n",
    "##aatest\n",
    "def _aa_group(df, _list, nsteps, features, m_sign, min_p, fdr=True): \n",
    "    if sum(_list) > len(df.type.unique()):\n",
    "        print('exceed the limitation of number of slots')\n",
    "    else:\n",
    "        succ_dict={}\n",
    "        fail_dict={}\n",
    "        for i in range(nsteps):\n",
    "            assignments={}\n",
    "            _slot_list=list(df.type.unique())\n",
    "            random.seed(i)\n",
    "            random.shuffle(_slot_list)\n",
    "            for j in range(len(_list)):\n",
    "                if j==0:\n",
    "                    assignments[j]=_slot_list[0:_list[j]]\n",
    "                else:\n",
    "                    assignments[j]=_slot_list[sum(_list[0:j]):sum(_list[0:j])+_list[j]]\n",
    "            \n",
    "            p_dict={}   #dict p-values\n",
    "            if 'rate' in features:\n",
    "                if len(features['rate']) > 0:\n",
    "                    for l in features['rate']:\n",
    "                        p_dict[l]=rate_test(rate_stats(df,assignments,l[0],l[1]))\n",
    "                \n",
    "            if 'num' in features:\n",
    "                if len(features['num']) > 0:\n",
    "                    for k in features['num']:\n",
    "                        p_dict[k]=num_test(num_stats(df,assignments,k))\n",
    "                \n",
    "            if 'per' in features:\n",
    "                if len(features['per']) > 0:\n",
    "                    for t in features['per']:\n",
    "                        p_dict[t]=per_test(per_stats(df,assignments,t))\n",
    "            \n",
    "            if fdr==True:\n",
    "                for keys in p_dict:\n",
    "                    p_dict[keys]=FDR(p_dict[keys])\n",
    "                \n",
    "            n_sign=sum(np.sum(pd.DataFrame(p_dict)<0.05))\n",
    "            n_min=sum(np.sum(pd.DataFrame(p_dict)<min_p))\n",
    "            \n",
    "            if (n_sign<=m_sign) & (n_min==0):\n",
    "                succ_dict[i]=assignments\n",
    "            else:\n",
    "                fail_dict[i]=assignments\n",
    "        return succ_dict,fail_dict\n",
    "                    "
   ]
  },
  {
   "cell_type": "code",
   "execution_count": 22,
   "metadata": {},
   "outputs": [],
   "source": [
    "df_all=pd.read_csv('aatestana.csv')"
   ]
  },
  {
   "cell_type": "code",
   "execution_count": 3,
   "metadata": {},
   "outputs": [
    {
     "data": {
      "text/html": [
       "<div>\n",
       "<style scoped>\n",
       "    .dataframe tbody tr th:only-of-type {\n",
       "        vertical-align: middle;\n",
       "    }\n",
       "\n",
       "    .dataframe tbody tr th {\n",
       "        vertical-align: top;\n",
       "    }\n",
       "\n",
       "    .dataframe thead th {\n",
       "        text-align: right;\n",
       "    }\n",
       "</style>\n",
       "<table border=\"1\" class=\"dataframe\">\n",
       "  <thead>\n",
       "    <tr style=\"text-align: right;\">\n",
       "      <th></th>\n",
       "      <th>dt</th>\n",
       "      <th>user_id</th>\n",
       "      <th>type</th>\n",
       "      <th>gender</th>\n",
       "      <th>os</th>\n",
       "      <th>revenue</th>\n",
       "      <th>swipe</th>\n",
       "      <th>likes</th>\n",
       "      <th>match</th>\n",
       "      <th>messages</th>\n",
       "    </tr>\n",
       "  </thead>\n",
       "  <tbody>\n",
       "    <tr>\n",
       "      <th>0</th>\n",
       "      <td>2019-08-01</td>\n",
       "      <td>1735</td>\n",
       "      <td>131</td>\n",
       "      <td>male</td>\n",
       "      <td>ios</td>\n",
       "      <td>0.0</td>\n",
       "      <td>130</td>\n",
       "      <td>130</td>\n",
       "      <td>0</td>\n",
       "      <td>0</td>\n",
       "    </tr>\n",
       "    <tr>\n",
       "      <th>1</th>\n",
       "      <td>2019-08-01</td>\n",
       "      <td>2335</td>\n",
       "      <td>313</td>\n",
       "      <td>male</td>\n",
       "      <td>ios</td>\n",
       "      <td>0.0</td>\n",
       "      <td>99</td>\n",
       "      <td>37</td>\n",
       "      <td>1</td>\n",
       "      <td>0</td>\n",
       "    </tr>\n",
       "    <tr>\n",
       "      <th>2</th>\n",
       "      <td>2019-08-01</td>\n",
       "      <td>3835</td>\n",
       "      <td>775</td>\n",
       "      <td>male</td>\n",
       "      <td>ios</td>\n",
       "      <td>0.0</td>\n",
       "      <td>0</td>\n",
       "      <td>0</td>\n",
       "      <td>0</td>\n",
       "      <td>0</td>\n",
       "    </tr>\n",
       "    <tr>\n",
       "      <th>3</th>\n",
       "      <td>2019-08-01</td>\n",
       "      <td>5615</td>\n",
       "      <td>679</td>\n",
       "      <td>male</td>\n",
       "      <td>android</td>\n",
       "      <td>0.0</td>\n",
       "      <td>133</td>\n",
       "      <td>49</td>\n",
       "      <td>19</td>\n",
       "      <td>11</td>\n",
       "    </tr>\n",
       "    <tr>\n",
       "      <th>4</th>\n",
       "      <td>2019-08-01</td>\n",
       "      <td>6135</td>\n",
       "      <td>418</td>\n",
       "      <td>male</td>\n",
       "      <td>android</td>\n",
       "      <td>0.0</td>\n",
       "      <td>132</td>\n",
       "      <td>132</td>\n",
       "      <td>0</td>\n",
       "      <td>0</td>\n",
       "    </tr>\n",
       "  </tbody>\n",
       "</table>\n",
       "</div>"
      ],
      "text/plain": [
       "           dt  user_id  type gender       os  revenue  swipe  likes  match  \\\n",
       "0  2019-08-01     1735   131   male      ios      0.0    130    130      0   \n",
       "1  2019-08-01     2335   313   male      ios      0.0     99     37      1   \n",
       "2  2019-08-01     3835   775   male      ios      0.0      0      0      0   \n",
       "3  2019-08-01     5615   679   male  android      0.0    133     49     19   \n",
       "4  2019-08-01     6135   418   male  android      0.0    132    132      0   \n",
       "\n",
       "   messages  \n",
       "0         0  \n",
       "1         0  \n",
       "2         0  \n",
       "3        11  \n",
       "4         0  "
      ]
     },
     "execution_count": 3,
     "metadata": {},
     "output_type": "execute_result"
    }
   ],
   "source": [
    "df_all.head()"
   ]
  },
  {
   "cell_type": "code",
   "execution_count": 4,
   "metadata": {},
   "outputs": [
    {
     "data": {
      "text/plain": [
       "101009120"
      ]
     },
     "execution_count": 4,
     "metadata": {},
     "output_type": "execute_result"
    }
   ],
   "source": [
    "len(df_all)"
   ]
  },
  {
   "cell_type": "code",
   "execution_count": 5,
   "metadata": {},
   "outputs": [],
   "source": [
    "#before exp\n",
    "aadf=df_all[df_all.dt<'2019-08-08']"
   ]
  },
  {
   "cell_type": "code",
   "execution_count": 10,
   "metadata": {},
   "outputs": [],
   "source": [
    "sdict,fdict=_aa_group(aadf,[50,50],200,{'rate':[('gender','female'),('os','ios')],'num':['user_id','revenue'],'per':['swipe','messages','match','likes']},0,0.05)"
   ]
  },
  {
   "cell_type": "code",
   "execution_count": 19,
   "metadata": {},
   "outputs": [
    {
     "name": "stdout",
     "output_type": "stream",
     "text": [
      "<class 'dict'>\n"
     ]
    }
   ],
   "source": [
    "len(sdict)\n",
    "print(type(sdict))\n",
    "str1=str(sdict)\n",
    "with open('strout_sdict.txt','w') as f:\n",
    "    f.write(str1)"
   ]
  },
  {
   "cell_type": "code",
   "execution_count": 20,
   "metadata": {},
   "outputs": [
    {
     "name": "stdout",
     "output_type": "stream",
     "text": [
      "<class 'dict'>\n"
     ]
    }
   ],
   "source": [
    "len(fdict)\n",
    "print(type(fdict))\n",
    "str2=str(fdict)\n",
    "with open('strout_fdict.txt','w') as f:\n",
    "    f.write(str2)"
   ]
  },
  {
   "cell_type": "code",
   "execution_count": 23,
   "metadata": {},
   "outputs": [],
   "source": [
    "#after exp\n",
    "abdf=df_all[df_all.dt>'2019-08-07']"
   ]
  },
  {
   "cell_type": "code",
   "execution_count": 21,
   "metadata": {},
   "outputs": [],
   "source": [
    "def _abtest(df, assignments, features, fdr=True):\n",
    "    p_dict={}   #dict p-values\n",
    "    if 'rate' in features:\n",
    "        if len(features['rate']) > 0:\n",
    "            for l in features['rate']:\n",
    "                p_dict[l]=rate_test(rate_stats(df,assignments,l[0],l[1]))\n",
    "\n",
    "    if 'num' in features:\n",
    "        if len(features['num']) > 0:\n",
    "            for k in features['num']:\n",
    "                p_dict[k]=num_test(num_stats(df,assignments,k))\n",
    "\n",
    "    if 'per' in features:\n",
    "        if len(features['per']) > 0:\n",
    "            for t in features['per']:\n",
    "                p_dict[t]=per_test(per_stats(df,assignments,t))\n",
    "    if fdr==True:\n",
    "        for keys in p_dict:\n",
    "            p_dict[keys]=FDR(p_dict[keys])\n",
    "                \n",
    "    n_sign=sum(np.sum(pd.DataFrame(p_dict)<0.05))\n",
    "    \n",
    "    return n_sign\n",
    "    "
   ]
  },
  {
   "cell_type": "code",
   "execution_count": 26,
   "metadata": {},
   "outputs": [
    {
     "data": {
      "text/plain": [
       "dict_keys([1, 9, 11, 16, 18, 27, 29, 32, 33, 37, 42, 45, 47, 50, 54, 55, 56, 57, 64, 68, 71, 72, 75, 77, 80, 81, 84, 86, 87, 88, 89, 92, 96, 101, 102, 104, 105, 107, 113, 116, 117, 119, 121, 123, 128, 130, 134, 139, 140, 142, 147, 149, 152, 154, 160, 164, 165, 167, 168, 170, 174, 176, 178, 182, 184, 188, 193, 194, 199])"
      ]
     },
     "execution_count": 26,
     "metadata": {},
     "output_type": "execute_result"
    }
   ],
   "source": [
    "sdict.keys()"
   ]
  },
  {
   "cell_type": "code",
   "execution_count": 30,
   "metadata": {},
   "outputs": [],
   "source": [
    "def _abresult(df,ddict,features):\n",
    "    _result=[]\n",
    "    for a in ddict:\n",
    "        _result.append(_abtest(df,ddict[a],features))\n",
    "    return _result"
   ]
  },
  {
   "cell_type": "code",
   "execution_count": 31,
   "metadata": {},
   "outputs": [],
   "source": [
    "slist=_abresult(abdf,sdict,{'rate':[('gender','female'),('os','ios')],'num':['user_id','revenue'],'per':['swipe','messages','match','likes']})"
   ]
  },
  {
   "cell_type": "code",
   "execution_count": 32,
   "metadata": {},
   "outputs": [],
   "source": [
    "flist=_abresult(abdf,fdict,{'rate':[('gender','female'),('os','ios')],'num':['user_id','revenue'],'per':['swipe','messages','match','likes']})"
   ]
  },
  {
   "cell_type": "code",
   "execution_count": 51,
   "metadata": {
    "scrolled": true
   },
   "outputs": [
    {
     "data": {
      "image/png": "[encoded data removed]",
      "text/plain": [
       "<Figure size 1440x720 with 1 Axes>"
      ]
     },
     "metadata": {},
     "output_type": "display_data"
    },
    {
     "data": {
      "text/plain": [
       "<Figure size 432x288 with 0 Axes>"
      ]
     },
     "metadata": {},
     "output_type": "display_data"
    }
   ],
   "source": [
    "import matplotlib.pyplot as plt\n",
    "import numpy as np\n",
    "import seaborn as sns\n",
    "fig=plt.figure(figsize=(20,10))\n",
    "sns.set_style('whitegrid')\n",
    "x = np.arange(0, 10, 1)\n",
    "density_suc = stats.kde.gaussian_kde(slist)\n",
    "density_fail= stats.kde.gaussian_kde(flist)\n",
    "plt.plot(x, density_suc(x))\n",
    "plt.plot(x, density_fail(x))\n",
    "plt.legend(labels=['success','fail'])\n",
    "plt.show()\n",
    "plt.savefig('density plot of number of significant hypo')"
   ]
  },
  {
   "cell_type": "code",
   "execution_count": 54,
   "metadata": {},
   "outputs": [
    {
     "name": "stdout",
     "output_type": "stream",
     "text": [
      "[1, 0, 1, 1, 1, 1, 2, 1, 1, 3, 2, 0, 0, 2, 0, 1, 1, 0, 1, 3, 1, 1, 2, 0, 1, 1, 0, 1, 1, 2, 1, 1, 3, 1, 1, 0, 1, 1, 1, 0, 0, 1, 1, 1, 2, 0, 0, 0, 1, 1, 1, 2, 0, 0, 0, 1, 1, 1, 1, 1, 1, 1, 0, 0, 1, 1, 1, 1, 0, 0, 2, 1, 1, 2, 2, 1, 1, 2, 2, 1, 0, 1, 0, 1, 0, 1, 1, 1, 0, 2, 1, 2, 1, 2, 1, 1, 0, 1, 1, 1, 1, 0, 2, 0, 2, 2, 2, 1, 1, 1, 3, 1, 1, 1, 1, 1, 1, 1, 3, 1, 1, 0, 1, 1, 0, 0, 2, 1, 1, 1, 2]\n"
     ]
    }
   ],
   "source": [
    "print(flist)"
   ]
  },
  {
   "cell_type": "code",
   "execution_count": null,
   "metadata": {},
   "outputs": [],
   "source": []
  }
 ],
 "metadata": {
  "kernelspec": {
   "display_name": "Python 3",
   "language": "python",
   "name": "python3"
  },
  "language_info": {
   "codemirror_mode": {
    "name": "ipython",
    "version": 3
   },
   "file_extension": ".py",
   "mimetype": "text/x-python",
   "name": "python",
   "nbconvert_exporter": "python",
   "pygments_lexer": "ipython3",
   "version": "3.7.3"
  }
 },
 "nbformat": 4,
 "nbformat_minor": 2
}
